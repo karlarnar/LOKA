{
 "cells": [
  {
   "cell_type": "code",
   "execution_count": 1,
   "metadata": {},
   "outputs": [],
   "source": [
    "import pandas as pd\n",
    "import re\n",
    "import matplotlib.pyplot as plt\n",
    "import seaborn as sns\n",
    "\n",
    "# setting the seaborn style\n",
    "sns.set(style=\"darkgrid\")\n",
    "sns.set_palette(\"pastel\")\n",
    "\n",
    "df = pd.read_csv(\"Backup_Dataset_CSV.csv\")"
   ]
  },
  {
   "cell_type": "code",
   "execution_count": 2,
   "metadata": {},
   "outputs": [
    {
     "data": {
      "text/plain": [
       "(2886, 5)"
      ]
     },
     "execution_count": 2,
     "metadata": {},
     "output_type": "execute_result"
    }
   ],
   "source": [
    "# returns (rows, columns)\n",
    "df.shape"
   ]
  },
  {
   "cell_type": "code",
   "execution_count": 3,
   "metadata": {},
   "outputs": [
    {
     "data": {
      "text/html": [
       "<div>\n",
       "<style scoped>\n",
       "    .dataframe tbody tr th:only-of-type {\n",
       "        vertical-align: middle;\n",
       "    }\n",
       "\n",
       "    .dataframe tbody tr th {\n",
       "        vertical-align: top;\n",
       "    }\n",
       "\n",
       "    .dataframe thead th {\n",
       "        text-align: right;\n",
       "    }\n",
       "</style>\n",
       "<table border=\"1\" class=\"dataframe\">\n",
       "  <thead>\n",
       "    <tr style=\"text-align: right;\">\n",
       "      <th></th>\n",
       "      <th>Type</th>\n",
       "      <th>Colour</th>\n",
       "      <th>Brand</th>\n",
       "      <th>Source</th>\n",
       "      <th>ImgName</th>\n",
       "    </tr>\n",
       "  </thead>\n",
       "  <tbody>\n",
       "    <tr>\n",
       "      <th>1317</th>\n",
       "      <td>Hoodie</td>\n",
       "      <td>Black</td>\n",
       "      <td>Nike</td>\n",
       "      <td>Grailed</td>\n",
       "      <td>rubUdSNBQAemQV4fsdAw.jpg</td>\n",
       "    </tr>\n",
       "    <tr>\n",
       "      <th>781</th>\n",
       "      <td>T-shirt</td>\n",
       "      <td>Blue</td>\n",
       "      <td>Adidas</td>\n",
       "      <td>Picclick</td>\n",
       "      <td>8642795611.jpg</td>\n",
       "    </tr>\n",
       "    <tr>\n",
       "      <th>1965</th>\n",
       "      <td>Sweatshirt</td>\n",
       "      <td>Red</td>\n",
       "      <td>Adidas</td>\n",
       "      <td>Poshmark</td>\n",
       "      <td>59756.jpg</td>\n",
       "    </tr>\n",
       "    <tr>\n",
       "      <th>1832</th>\n",
       "      <td>Sweatshirt</td>\n",
       "      <td>Black</td>\n",
       "      <td>Adidas</td>\n",
       "      <td>Poshmark</td>\n",
       "      <td>25455.jpg</td>\n",
       "    </tr>\n",
       "    <tr>\n",
       "      <th>389</th>\n",
       "      <td>Hoodie</td>\n",
       "      <td>Black</td>\n",
       "      <td>Nike</td>\n",
       "      <td>Picclick</td>\n",
       "      <td>3806462546.jpg</td>\n",
       "    </tr>\n",
       "    <tr>\n",
       "      <th>1601</th>\n",
       "      <td>Sweatshirt</td>\n",
       "      <td>Gray</td>\n",
       "      <td>Nike</td>\n",
       "      <td>Grailed</td>\n",
       "      <td>wYJ2NLQHTIezetNn5A52.jpg</td>\n",
       "    </tr>\n",
       "    <tr>\n",
       "      <th>392</th>\n",
       "      <td>Hoodie</td>\n",
       "      <td>Black</td>\n",
       "      <td>Nike</td>\n",
       "      <td>Picclick</td>\n",
       "      <td>4661551538.jpg</td>\n",
       "    </tr>\n",
       "    <tr>\n",
       "      <th>1329</th>\n",
       "      <td>T-shirt</td>\n",
       "      <td>Blue</td>\n",
       "      <td>Nike</td>\n",
       "      <td>Grailed</td>\n",
       "      <td>sIcXvbmYR3mWlD899LsL.jpg</td>\n",
       "    </tr>\n",
       "    <tr>\n",
       "      <th>1049</th>\n",
       "      <td>Hoodie</td>\n",
       "      <td>Blue</td>\n",
       "      <td>Nike</td>\n",
       "      <td>Grailed</td>\n",
       "      <td>Ny5X9OmkT1qOeXhrgSKx.jpg</td>\n",
       "    </tr>\n",
       "    <tr>\n",
       "      <th>2414</th>\n",
       "      <td>T-shirt</td>\n",
       "      <td>Red</td>\n",
       "      <td>Nike</td>\n",
       "      <td>Poshmark</td>\n",
       "      <td>23522.jpg</td>\n",
       "    </tr>\n",
       "  </tbody>\n",
       "</table>\n",
       "</div>"
      ],
      "text/plain": [
       "            Type Colour   Brand    Source                   ImgName\n",
       "1317      Hoodie  Black    Nike   Grailed  rubUdSNBQAemQV4fsdAw.jpg\n",
       "781      T-shirt   Blue  Adidas  Picclick            8642795611.jpg\n",
       "1965  Sweatshirt    Red  Adidas  Poshmark                 59756.jpg\n",
       "1832  Sweatshirt  Black  Adidas  Poshmark                 25455.jpg\n",
       "389       Hoodie  Black    Nike  Picclick            3806462546.jpg\n",
       "1601  Sweatshirt   Gray    Nike   Grailed  wYJ2NLQHTIezetNn5A52.jpg\n",
       "392       Hoodie  Black    Nike  Picclick            4661551538.jpg\n",
       "1329     T-shirt   Blue    Nike   Grailed  sIcXvbmYR3mWlD899LsL.jpg\n",
       "1049      Hoodie   Blue    Nike   Grailed  Ny5X9OmkT1qOeXhrgSKx.jpg\n",
       "2414     T-shirt    Red    Nike  Poshmark                 23522.jpg"
      ]
     },
     "execution_count": 3,
     "metadata": {},
     "output_type": "execute_result"
    }
   ],
   "source": [
    "df.sample(10)"
   ]
  },
  {
   "cell_type": "code",
   "execution_count": 4,
   "metadata": {},
   "outputs": [
    {
     "data": {
      "text/plain": [
       "Type       0\n",
       "Colour     0\n",
       "Brand      0\n",
       "Source     0\n",
       "ImgName    0\n",
       "dtype: int64"
      ]
     },
     "execution_count": 4,
     "metadata": {},
     "output_type": "execute_result"
    }
   ],
   "source": [
    "# checking if there are any missing values\n",
    "df.isna().sum()"
   ]
  },
  {
   "cell_type": "code",
   "execution_count": 5,
   "metadata": {},
   "outputs": [
    {
     "data": {
      "text/html": [
       "<div>\n",
       "<style scoped>\n",
       "    .dataframe tbody tr th:only-of-type {\n",
       "        vertical-align: middle;\n",
       "    }\n",
       "\n",
       "    .dataframe tbody tr th {\n",
       "        vertical-align: top;\n",
       "    }\n",
       "\n",
       "    .dataframe thead th {\n",
       "        text-align: right;\n",
       "    }\n",
       "</style>\n",
       "<table border=\"1\" class=\"dataframe\">\n",
       "  <thead>\n",
       "    <tr style=\"text-align: right;\">\n",
       "      <th></th>\n",
       "      <th>Type</th>\n",
       "      <th>Colour</th>\n",
       "      <th>Brand</th>\n",
       "      <th>Source</th>\n",
       "    </tr>\n",
       "  </thead>\n",
       "  <tbody>\n",
       "    <tr>\n",
       "      <th>0</th>\n",
       "      <td>T-shirt</td>\n",
       "      <td>Black</td>\n",
       "      <td>Adidas</td>\n",
       "      <td>Grailed</td>\n",
       "    </tr>\n",
       "    <tr>\n",
       "      <th>1</th>\n",
       "      <td>T-shirt</td>\n",
       "      <td>Red</td>\n",
       "      <td>Nike</td>\n",
       "      <td>Grailed</td>\n",
       "    </tr>\n",
       "    <tr>\n",
       "      <th>2</th>\n",
       "      <td>T-shirt</td>\n",
       "      <td>White</td>\n",
       "      <td>Adidas</td>\n",
       "      <td>Grailed</td>\n",
       "    </tr>\n",
       "    <tr>\n",
       "      <th>3</th>\n",
       "      <td>Sweatshirt</td>\n",
       "      <td>Gray</td>\n",
       "      <td>Nike</td>\n",
       "      <td>Grailed</td>\n",
       "    </tr>\n",
       "    <tr>\n",
       "      <th>4</th>\n",
       "      <td>T-shirt</td>\n",
       "      <td>Gray</td>\n",
       "      <td>Nike</td>\n",
       "      <td>Grailed</td>\n",
       "    </tr>\n",
       "    <tr>\n",
       "      <th>5</th>\n",
       "      <td>T-shirt</td>\n",
       "      <td>White</td>\n",
       "      <td>Adidas</td>\n",
       "      <td>Grailed</td>\n",
       "    </tr>\n",
       "    <tr>\n",
       "      <th>6</th>\n",
       "      <td>T-shirt</td>\n",
       "      <td>Black</td>\n",
       "      <td>Nike</td>\n",
       "      <td>Grailed</td>\n",
       "    </tr>\n",
       "    <tr>\n",
       "      <th>7</th>\n",
       "      <td>Sweatshirt</td>\n",
       "      <td>Red</td>\n",
       "      <td>Adidas</td>\n",
       "      <td>Grailed</td>\n",
       "    </tr>\n",
       "    <tr>\n",
       "      <th>8</th>\n",
       "      <td>T-shirt</td>\n",
       "      <td>Black</td>\n",
       "      <td>Nike</td>\n",
       "      <td>Grailed</td>\n",
       "    </tr>\n",
       "    <tr>\n",
       "      <th>9</th>\n",
       "      <td>Sweatshirt</td>\n",
       "      <td>Blue</td>\n",
       "      <td>Adidas</td>\n",
       "      <td>Grailed</td>\n",
       "    </tr>\n",
       "    <tr>\n",
       "      <th>10</th>\n",
       "      <td>Hoodie</td>\n",
       "      <td>Black</td>\n",
       "      <td>Nike</td>\n",
       "      <td>Grailed</td>\n",
       "    </tr>\n",
       "    <tr>\n",
       "      <th>11</th>\n",
       "      <td>Sweatshirt</td>\n",
       "      <td>Black</td>\n",
       "      <td>Nike</td>\n",
       "      <td>Grailed</td>\n",
       "    </tr>\n",
       "    <tr>\n",
       "      <th>12</th>\n",
       "      <td>Hoodie</td>\n",
       "      <td>White</td>\n",
       "      <td>Nike</td>\n",
       "      <td>Grailed</td>\n",
       "    </tr>\n",
       "    <tr>\n",
       "      <th>13</th>\n",
       "      <td>Hoodie</td>\n",
       "      <td>Red</td>\n",
       "      <td>Nike</td>\n",
       "      <td>Grailed</td>\n",
       "    </tr>\n",
       "    <tr>\n",
       "      <th>14</th>\n",
       "      <td>Hoodie</td>\n",
       "      <td>Blue</td>\n",
       "      <td>Adidas</td>\n",
       "      <td>Grailed</td>\n",
       "    </tr>\n",
       "    <tr>\n",
       "      <th>15</th>\n",
       "      <td>Hoodie</td>\n",
       "      <td>Black</td>\n",
       "      <td>Nike</td>\n",
       "      <td>Grailed</td>\n",
       "    </tr>\n",
       "    <tr>\n",
       "      <th>16</th>\n",
       "      <td>T-shirt</td>\n",
       "      <td>Black</td>\n",
       "      <td>Nike</td>\n",
       "      <td>Grailed</td>\n",
       "    </tr>\n",
       "    <tr>\n",
       "      <th>17</th>\n",
       "      <td>Sweatshirt</td>\n",
       "      <td>Gray</td>\n",
       "      <td>Nike</td>\n",
       "      <td>Grailed</td>\n",
       "    </tr>\n",
       "    <tr>\n",
       "      <th>18</th>\n",
       "      <td>T-shirt</td>\n",
       "      <td>Black</td>\n",
       "      <td>Adidas</td>\n",
       "      <td>Shpock</td>\n",
       "    </tr>\n",
       "    <tr>\n",
       "      <th>19</th>\n",
       "      <td>T-shirt</td>\n",
       "      <td>Black</td>\n",
       "      <td>Adidas</td>\n",
       "      <td>Shpock</td>\n",
       "    </tr>\n",
       "    <tr>\n",
       "      <th>20</th>\n",
       "      <td>Sweatshirt</td>\n",
       "      <td>Black</td>\n",
       "      <td>Adidas</td>\n",
       "      <td>Shpock</td>\n",
       "    </tr>\n",
       "    <tr>\n",
       "      <th>21</th>\n",
       "      <td>T-shirt</td>\n",
       "      <td>Black</td>\n",
       "      <td>Adidas</td>\n",
       "      <td>Shpock</td>\n",
       "    </tr>\n",
       "    <tr>\n",
       "      <th>22</th>\n",
       "      <td>T-shirt</td>\n",
       "      <td>Black</td>\n",
       "      <td>Adidas</td>\n",
       "      <td>Shpock</td>\n",
       "    </tr>\n",
       "    <tr>\n",
       "      <th>23</th>\n",
       "      <td>T-shirt</td>\n",
       "      <td>Black</td>\n",
       "      <td>Adidas</td>\n",
       "      <td>Shpock</td>\n",
       "    </tr>\n",
       "    <tr>\n",
       "      <th>24</th>\n",
       "      <td>T-shirt</td>\n",
       "      <td>Black</td>\n",
       "      <td>Adidas</td>\n",
       "      <td>Shpock</td>\n",
       "    </tr>\n",
       "    <tr>\n",
       "      <th>25</th>\n",
       "      <td>T-shirt</td>\n",
       "      <td>Black</td>\n",
       "      <td>Adidas</td>\n",
       "      <td>Shpock</td>\n",
       "    </tr>\n",
       "    <tr>\n",
       "      <th>26</th>\n",
       "      <td>T-shirt</td>\n",
       "      <td>Black</td>\n",
       "      <td>Adidas</td>\n",
       "      <td>Shpock</td>\n",
       "    </tr>\n",
       "    <tr>\n",
       "      <th>27</th>\n",
       "      <td>Hoodie</td>\n",
       "      <td>Black</td>\n",
       "      <td>Adidas</td>\n",
       "      <td>Picclick</td>\n",
       "    </tr>\n",
       "    <tr>\n",
       "      <th>28</th>\n",
       "      <td>T-shirt</td>\n",
       "      <td>Black</td>\n",
       "      <td>Adidas</td>\n",
       "      <td>Shpock</td>\n",
       "    </tr>\n",
       "    <tr>\n",
       "      <th>29</th>\n",
       "      <td>Hoodie</td>\n",
       "      <td>Black</td>\n",
       "      <td>Adidas</td>\n",
       "      <td>Poshmark</td>\n",
       "    </tr>\n",
       "    <tr>\n",
       "      <th>...</th>\n",
       "      <td>...</td>\n",
       "      <td>...</td>\n",
       "      <td>...</td>\n",
       "      <td>...</td>\n",
       "    </tr>\n",
       "    <tr>\n",
       "      <th>2856</th>\n",
       "      <td>Hoodie</td>\n",
       "      <td>Black</td>\n",
       "      <td>Nike</td>\n",
       "      <td>Poshmark</td>\n",
       "    </tr>\n",
       "    <tr>\n",
       "      <th>2857</th>\n",
       "      <td>Hoodie</td>\n",
       "      <td>Black</td>\n",
       "      <td>Nike</td>\n",
       "      <td>Poshmark</td>\n",
       "    </tr>\n",
       "    <tr>\n",
       "      <th>2858</th>\n",
       "      <td>Sweatshirt</td>\n",
       "      <td>White</td>\n",
       "      <td>Nike</td>\n",
       "      <td>Poshmark</td>\n",
       "    </tr>\n",
       "    <tr>\n",
       "      <th>2859</th>\n",
       "      <td>Hoodie</td>\n",
       "      <td>Gray</td>\n",
       "      <td>Nike</td>\n",
       "      <td>Poshmark</td>\n",
       "    </tr>\n",
       "    <tr>\n",
       "      <th>2860</th>\n",
       "      <td>Sweatshirt</td>\n",
       "      <td>Gray</td>\n",
       "      <td>Nike</td>\n",
       "      <td>Poshmark</td>\n",
       "    </tr>\n",
       "    <tr>\n",
       "      <th>2861</th>\n",
       "      <td>Hoodie</td>\n",
       "      <td>Black</td>\n",
       "      <td>Nike</td>\n",
       "      <td>Poshmark</td>\n",
       "    </tr>\n",
       "    <tr>\n",
       "      <th>2862</th>\n",
       "      <td>Hoodie</td>\n",
       "      <td>Blue</td>\n",
       "      <td>Nike</td>\n",
       "      <td>Poshmark</td>\n",
       "    </tr>\n",
       "    <tr>\n",
       "      <th>2863</th>\n",
       "      <td>Hoodie</td>\n",
       "      <td>Gray</td>\n",
       "      <td>Nike</td>\n",
       "      <td>Poshmark</td>\n",
       "    </tr>\n",
       "    <tr>\n",
       "      <th>2864</th>\n",
       "      <td>Hoodie</td>\n",
       "      <td>Black</td>\n",
       "      <td>Nike</td>\n",
       "      <td>Poshmark</td>\n",
       "    </tr>\n",
       "    <tr>\n",
       "      <th>2865</th>\n",
       "      <td>Hoodie</td>\n",
       "      <td>Gray</td>\n",
       "      <td>Nike</td>\n",
       "      <td>Poshmark</td>\n",
       "    </tr>\n",
       "    <tr>\n",
       "      <th>2866</th>\n",
       "      <td>Hoodie</td>\n",
       "      <td>Red</td>\n",
       "      <td>Nike</td>\n",
       "      <td>Poshmark</td>\n",
       "    </tr>\n",
       "    <tr>\n",
       "      <th>2867</th>\n",
       "      <td>Sweatshirt</td>\n",
       "      <td>White</td>\n",
       "      <td>Nike</td>\n",
       "      <td>Poshmark</td>\n",
       "    </tr>\n",
       "    <tr>\n",
       "      <th>2868</th>\n",
       "      <td>Hoodie</td>\n",
       "      <td>Gray</td>\n",
       "      <td>Nike</td>\n",
       "      <td>Poshmark</td>\n",
       "    </tr>\n",
       "    <tr>\n",
       "      <th>2869</th>\n",
       "      <td>Sweatshirt</td>\n",
       "      <td>Blue</td>\n",
       "      <td>Nike</td>\n",
       "      <td>Poshmark</td>\n",
       "    </tr>\n",
       "    <tr>\n",
       "      <th>2870</th>\n",
       "      <td>Sweatshirt</td>\n",
       "      <td>Black</td>\n",
       "      <td>Nike</td>\n",
       "      <td>Poshmark</td>\n",
       "    </tr>\n",
       "    <tr>\n",
       "      <th>2871</th>\n",
       "      <td>Sweatshirt</td>\n",
       "      <td>Red</td>\n",
       "      <td>Nike</td>\n",
       "      <td>Grailed</td>\n",
       "    </tr>\n",
       "    <tr>\n",
       "      <th>2872</th>\n",
       "      <td>Hoodie</td>\n",
       "      <td>Blue</td>\n",
       "      <td>Nike</td>\n",
       "      <td>Poshmark</td>\n",
       "    </tr>\n",
       "    <tr>\n",
       "      <th>2873</th>\n",
       "      <td>Hoodie</td>\n",
       "      <td>Black</td>\n",
       "      <td>Nike</td>\n",
       "      <td>Poshmark</td>\n",
       "    </tr>\n",
       "    <tr>\n",
       "      <th>2874</th>\n",
       "      <td>Hoodie</td>\n",
       "      <td>Black</td>\n",
       "      <td>Nike</td>\n",
       "      <td>Poshmark</td>\n",
       "    </tr>\n",
       "    <tr>\n",
       "      <th>2875</th>\n",
       "      <td>Hoodie</td>\n",
       "      <td>Gray</td>\n",
       "      <td>Nike</td>\n",
       "      <td>Poshmark</td>\n",
       "    </tr>\n",
       "    <tr>\n",
       "      <th>2876</th>\n",
       "      <td>Sweatshirt</td>\n",
       "      <td>Gray</td>\n",
       "      <td>Nike</td>\n",
       "      <td>Poshmark</td>\n",
       "    </tr>\n",
       "    <tr>\n",
       "      <th>2877</th>\n",
       "      <td>Hoodie</td>\n",
       "      <td>Blue</td>\n",
       "      <td>Nike</td>\n",
       "      <td>Poshmark</td>\n",
       "    </tr>\n",
       "    <tr>\n",
       "      <th>2878</th>\n",
       "      <td>Hoodie</td>\n",
       "      <td>Gray</td>\n",
       "      <td>Nike</td>\n",
       "      <td>Poshmark</td>\n",
       "    </tr>\n",
       "    <tr>\n",
       "      <th>2879</th>\n",
       "      <td>Hoodie</td>\n",
       "      <td>Gray</td>\n",
       "      <td>Nike</td>\n",
       "      <td>Poshmark</td>\n",
       "    </tr>\n",
       "    <tr>\n",
       "      <th>2880</th>\n",
       "      <td>Sweatshirt</td>\n",
       "      <td>Gray</td>\n",
       "      <td>Nike</td>\n",
       "      <td>Poshmark</td>\n",
       "    </tr>\n",
       "    <tr>\n",
       "      <th>2881</th>\n",
       "      <td>Hoodie</td>\n",
       "      <td>Gray</td>\n",
       "      <td>Nike</td>\n",
       "      <td>Poshmark</td>\n",
       "    </tr>\n",
       "    <tr>\n",
       "      <th>2882</th>\n",
       "      <td>Hoodie</td>\n",
       "      <td>Gray</td>\n",
       "      <td>Nike</td>\n",
       "      <td>Poshmark</td>\n",
       "    </tr>\n",
       "    <tr>\n",
       "      <th>2883</th>\n",
       "      <td>Hoodie</td>\n",
       "      <td>Gray</td>\n",
       "      <td>Nike</td>\n",
       "      <td>Poshmark</td>\n",
       "    </tr>\n",
       "    <tr>\n",
       "      <th>2884</th>\n",
       "      <td>Hoodie</td>\n",
       "      <td>Blue</td>\n",
       "      <td>Nike</td>\n",
       "      <td>Poshmark</td>\n",
       "    </tr>\n",
       "    <tr>\n",
       "      <th>2885</th>\n",
       "      <td>Hoodie</td>\n",
       "      <td>Blue</td>\n",
       "      <td>Nike</td>\n",
       "      <td>Poshmark</td>\n",
       "    </tr>\n",
       "  </tbody>\n",
       "</table>\n",
       "<p>2886 rows × 4 columns</p>\n",
       "</div>"
      ],
      "text/plain": [
       "            Type Colour   Brand    Source\n",
       "0        T-shirt  Black  Adidas   Grailed\n",
       "1        T-shirt    Red    Nike   Grailed\n",
       "2        T-shirt  White  Adidas   Grailed\n",
       "3     Sweatshirt   Gray    Nike   Grailed\n",
       "4        T-shirt   Gray    Nike   Grailed\n",
       "5        T-shirt  White  Adidas   Grailed\n",
       "6        T-shirt  Black    Nike   Grailed\n",
       "7     Sweatshirt    Red  Adidas   Grailed\n",
       "8        T-shirt  Black    Nike   Grailed\n",
       "9     Sweatshirt   Blue  Adidas   Grailed\n",
       "10        Hoodie  Black    Nike   Grailed\n",
       "11    Sweatshirt  Black    Nike   Grailed\n",
       "12        Hoodie  White    Nike   Grailed\n",
       "13        Hoodie    Red    Nike   Grailed\n",
       "14        Hoodie   Blue  Adidas   Grailed\n",
       "15        Hoodie  Black    Nike   Grailed\n",
       "16       T-shirt  Black    Nike   Grailed\n",
       "17    Sweatshirt   Gray    Nike   Grailed\n",
       "18       T-shirt  Black  Adidas    Shpock\n",
       "19       T-shirt  Black  Adidas    Shpock\n",
       "20    Sweatshirt  Black  Adidas    Shpock\n",
       "21       T-shirt  Black  Adidas    Shpock\n",
       "22       T-shirt  Black  Adidas    Shpock\n",
       "23       T-shirt  Black  Adidas    Shpock\n",
       "24       T-shirt  Black  Adidas    Shpock\n",
       "25       T-shirt  Black  Adidas    Shpock\n",
       "26       T-shirt  Black  Adidas    Shpock\n",
       "27        Hoodie  Black  Adidas  Picclick\n",
       "28       T-shirt  Black  Adidas    Shpock\n",
       "29        Hoodie  Black  Adidas  Poshmark\n",
       "...          ...    ...     ...       ...\n",
       "2856      Hoodie  Black    Nike  Poshmark\n",
       "2857      Hoodie  Black    Nike  Poshmark\n",
       "2858  Sweatshirt  White    Nike  Poshmark\n",
       "2859      Hoodie   Gray    Nike  Poshmark\n",
       "2860  Sweatshirt   Gray    Nike  Poshmark\n",
       "2861      Hoodie  Black    Nike  Poshmark\n",
       "2862      Hoodie   Blue    Nike  Poshmark\n",
       "2863      Hoodie   Gray    Nike  Poshmark\n",
       "2864      Hoodie  Black    Nike  Poshmark\n",
       "2865      Hoodie   Gray    Nike  Poshmark\n",
       "2866      Hoodie    Red    Nike  Poshmark\n",
       "2867  Sweatshirt  White    Nike  Poshmark\n",
       "2868      Hoodie   Gray    Nike  Poshmark\n",
       "2869  Sweatshirt   Blue    Nike  Poshmark\n",
       "2870  Sweatshirt  Black    Nike  Poshmark\n",
       "2871  Sweatshirt    Red    Nike   Grailed\n",
       "2872      Hoodie   Blue    Nike  Poshmark\n",
       "2873      Hoodie  Black    Nike  Poshmark\n",
       "2874      Hoodie  Black    Nike  Poshmark\n",
       "2875      Hoodie   Gray    Nike  Poshmark\n",
       "2876  Sweatshirt   Gray    Nike  Poshmark\n",
       "2877      Hoodie   Blue    Nike  Poshmark\n",
       "2878      Hoodie   Gray    Nike  Poshmark\n",
       "2879      Hoodie   Gray    Nike  Poshmark\n",
       "2880  Sweatshirt   Gray    Nike  Poshmark\n",
       "2881      Hoodie   Gray    Nike  Poshmark\n",
       "2882      Hoodie   Gray    Nike  Poshmark\n",
       "2883      Hoodie   Gray    Nike  Poshmark\n",
       "2884      Hoodie   Blue    Nike  Poshmark\n",
       "2885      Hoodie   Blue    Nike  Poshmark\n",
       "\n",
       "[2886 rows x 4 columns]"
      ]
     },
     "execution_count": 5,
     "metadata": {},
     "output_type": "execute_result"
    }
   ],
   "source": [
    "# we don't need the image name \n",
    "# for the purpose of exploring the data\n",
    "df = df.drop(columns=['ImgName'])\n",
    "df"
   ]
  },
  {
   "cell_type": "code",
   "execution_count": 6,
   "metadata": {},
   "outputs": [
    {
     "data": {
      "text/plain": [
       "Hoodie        1225\n",
       "T-shirt       1172\n",
       "Sweatshirt     489\n",
       "Name: Type, dtype: int64"
      ]
     },
     "execution_count": 6,
     "metadata": {},
     "output_type": "execute_result"
    }
   ],
   "source": [
    "df.Type.value_counts()"
   ]
  },
  {
   "cell_type": "code",
   "execution_count": 7,
   "metadata": {},
   "outputs": [
    {
     "data": {
      "text/plain": [
       "Black    744\n",
       "Blue     708\n",
       "Gray     629\n",
       "Red      434\n",
       "White    371\n",
       "Name: Colour, dtype: int64"
      ]
     },
     "execution_count": 7,
     "metadata": {},
     "output_type": "execute_result"
    }
   ],
   "source": [
    "df.Colour.value_counts()"
   ]
  },
  {
   "cell_type": "code",
   "execution_count": 8,
   "metadata": {},
   "outputs": [
    {
     "data": {
      "text/plain": [
       "Adidas    1481\n",
       "Nike      1405\n",
       "Name: Brand, dtype: int64"
      ]
     },
     "execution_count": 8,
     "metadata": {},
     "output_type": "execute_result"
    }
   ],
   "source": [
    "df.Brand.value_counts()"
   ]
  },
  {
   "cell_type": "code",
   "execution_count": 9,
   "metadata": {},
   "outputs": [
    {
     "data": {
      "text/plain": [
       "Poshmark    1121\n",
       "Grailed      846\n",
       "Picclick     790\n",
       "Shpock       129\n",
       "Name: Source, dtype: int64"
      ]
     },
     "execution_count": 9,
     "metadata": {},
     "output_type": "execute_result"
    }
   ],
   "source": [
    "df.Source.value_counts()"
   ]
  },
  {
   "cell_type": "code",
   "execution_count": null,
   "metadata": {},
   "outputs": [],
   "source": []
  },
  {
   "cell_type": "code",
   "execution_count": 10,
   "metadata": {},
   "outputs": [
    {
     "data": {
      "image/png": "[encoded data removed]",
      "text/plain": [
       "<matplotlib.figure.Figure at 0x7f8a973de8d0>"
      ]
     },
     "metadata": {
      "needs_background": "light"
     },
     "output_type": "display_data"
    }
   ],
   "source": [
    "plt.figure(figsize=(16,8))\n",
    "\n",
    "TypeChart = sns.countplot(\n",
    "    data=df,\n",
    "    x='Type',\n",
    "    order=df.Type.value_counts().index\n",
    ")\n",
    "\n",
    "TypeChart.set_xticklabels(TypeChart.get_xticklabels())\n",
    "\n",
    "for p in TypeChart.patches:\n",
    "    height = p.get_height()\n",
    "    width = p.get_width()\n",
    "    getX = p.get_x()\n",
    "    TypeChart.text(getX + (width/2), height + 12, height, ha=\"center\")\n",
    "\n",
    "\n",
    "plt.show()"
   ]
  },
  {
   "cell_type": "code",
   "execution_count": 11,
   "metadata": {},
   "outputs": [
    {
     "data": {
      "image/png": "[encoded data removed]",
      "text/plain": [
       "<matplotlib.figure.Figure at 0x7f8a971a8ba8>"
      ]
     },
     "metadata": {
      "needs_background": "light"
     },
     "output_type": "display_data"
    }
   ],
   "source": [
    "plt.figure(figsize=(16,8))\n",
    "\n",
    "BrandChart = sns.countplot(\n",
    "    data=df,\n",
    "    y='Brand',\n",
    "    order=df.Brand.value_counts().index\n",
    ")\n",
    "\n",
    "BrandChart.set_yticklabels(BrandChart.get_yticklabels(), rotation=90)\n",
    "\n",
    "initialX = 0\n",
    "for p in BrandChart.patches:\n",
    "    width = p.get_width()\n",
    "    height = p.get_height()\n",
    "    BrandChart.text(width, initialX + (height/8), width)\n",
    "    initialX += 1\n",
    "\n",
    "    \n",
    "plt.show()"
   ]
  },
  {
   "cell_type": "code",
   "execution_count": 12,
   "metadata": {},
   "outputs": [
    {
     "data": {
      "image/png": "[encoded data removed]",
      "text/plain": [
       "<matplotlib.figure.Figure at 0x7f8a99db5080>"
      ]
     },
     "metadata": {
      "needs_background": "light"
     },
     "output_type": "display_data"
    }
   ],
   "source": [
    "plt.figure(figsize=(16,8))\n",
    "\n",
    "ColourChart = sns.countplot(\n",
    "    data=df,\n",
    "    x='Colour',\n",
    "    order=df.Colour.value_counts().index,\n",
    "    palette=[\"black\", \"#A1C9F4\", \"#CFCFCF\", \"#FF9F9B\", \"white\"]\n",
    ")\n",
    "\n",
    "ColourChart.set_xticklabels(ColourChart.get_xticklabels())\n",
    "\n",
    "for p in ColourChart.patches:\n",
    "    height = p.get_height()\n",
    "    width = p.get_width()\n",
    "    getX = p.get_x()\n",
    "    ColourChart.text(getX + (width/2), height + 12, height, ha=\"center\")\n",
    "\n",
    "plt.show()"
   ]
  },
  {
   "cell_type": "code",
   "execution_count": 13,
   "metadata": {},
   "outputs": [
    {
     "data": {
      "image/png": "[encoded data removed]",
      "text/plain": [
       "<matplotlib.figure.Figure at 0x7f8a973320f0>"
      ]
     },
     "metadata": {
      "needs_background": "light"
     },
     "output_type": "display_data"
    }
   ],
   "source": [
    "plt.figure(figsize=(16,8))\n",
    "\n",
    "SourceChart = sns.countplot(\n",
    "    data=df,\n",
    "    x='Source',\n",
    "    order=df.Source.value_counts().index\n",
    ")\n",
    "\n",
    "SourceChart.set_xticklabels(SourceChart.get_xticklabels())\n",
    "\n",
    "for p in SourceChart.patches:\n",
    "    height = p.get_height()\n",
    "    width = p.get_width()\n",
    "    getX = p.get_x()\n",
    "    SourceChart.text(getX + (width/2), height + 12, height, ha=\"center\")\n",
    "\n",
    "plt.show()"
   ]
  },
  {
   "cell_type": "code",
   "execution_count": 14,
   "metadata": {},
   "outputs": [
    {
     "name": "stdout",
     "output_type": "stream",
     "text": [
      "['#a1c9f4', '#ffb482', '#8de5a1', '#ff9f9b', '#d0bbff', '#debb9b', '#fab0e4', '#cfcfcf', '#fffea3', '#b9f2f0']\n"
     ]
    },
    {
     "data": {
      "image/png": "[encoded data removed]",
      "text/plain": [
       "<matplotlib.figure.Figure at 0x7f8a971bb710>"
      ]
     },
     "metadata": {
      "needs_background": "light"
     },
     "output_type": "display_data"
    }
   ],
   "source": [
    "pal = sns.color_palette(\"pastel\")\n",
    "sns.palplot(pal)\n",
    "print(pal.as_hex())"
   ]
  },
  {
   "cell_type": "code",
   "execution_count": 15,
   "metadata": {
    "scrolled": false
   },
   "outputs": [
    {
     "data": {
      "image/png": "[encoded data removed]",
      "text/plain": [
       "<matplotlib.figure.Figure at 0x7f8a970e59b0>"
      ]
     },
     "metadata": {
      "needs_background": "light"
     },
     "output_type": "display_data"
    }
   ],
   "source": [
    "plt.figure(figsize=(16,8))\n",
    "\n",
    "TypeSourceChart = sns.countplot(\n",
    "    data=df,\n",
    "    x='Type',\n",
    "    hue=\"Source\",\n",
    "    palette=[\"#ffb482\", \"#ff9f9b\", \"#8de5a1\", \"#a1c9f4\"]\n",
    ")\n",
    "\n",
    "TypeSourceChart.set_xticklabels(TypeSourceChart.get_xticklabels())\n",
    "\n",
    "for p in TypeSourceChart.patches:\n",
    "    height = p.get_height()\n",
    "    width = p.get_width()\n",
    "    getX = p.get_x()\n",
    "    TypeSourceChart.text(getX + (width/2), height + 2, height, ha=\"center\")\n",
    "\n",
    "plt.show()"
   ]
  },
  {
   "cell_type": "code",
   "execution_count": 16,
   "metadata": {},
   "outputs": [
    {
     "data": {
      "text/plain": [
       "<matplotlib.figure.Figure at 0x7f8a9718c8d0>"
      ]
     },
     "metadata": {},
     "output_type": "display_data"
    },
    {
     "data": {
      "image/png": "[encoded data removed]",
      "text/plain": [
       "<matplotlib.figure.Figure at 0x7f8a972a0b38>"
      ]
     },
     "metadata": {
      "needs_background": "light"
     },
     "output_type": "display_data"
    }
   ],
   "source": [
    "plt.figure(figsize=(16,8))\n",
    "\n",
    "TypeSourceCat = sns.catplot(\n",
    "    data=df,\n",
    "    y='Brand',\n",
    "    hue=\"Type\",\n",
    "    col=\"Source\",\n",
    "    kind=\"count\",\n",
    "    height=4, aspect=0.7\n",
    ")\n",
    "\n",
    "plt.show()"
   ]
  },
  {
   "cell_type": "code",
   "execution_count": 17,
   "metadata": {},
   "outputs": [
    {
     "data": {
      "text/plain": [
       "<matplotlib.figure.Figure at 0x7f8a96ef8eb8>"
      ]
     },
     "metadata": {},
     "output_type": "display_data"
    },
    {
     "data": {
      "image/png": "[encoded data removed]",
      "text/plain": [
       "<matplotlib.figure.Figure at 0x7f8a96fafac8>"
      ]
     },
     "metadata": {
      "needs_background": "light"
     },
     "output_type": "display_data"
    }
   ],
   "source": [
    "plt.figure(figsize=(16,8))\n",
    "\n",
    "TypeSourceCat = sns.catplot(\n",
    "    data=df,\n",
    "    y='Brand',\n",
    "    hue=\"Colour\",\n",
    "    col=\"Source\",\n",
    "    kind=\"count\",\n",
    "    height=4, aspect=0.7,\n",
    "    palette=[\"black\", \"#FF9F9B\", \"white\", \"#CFCFCF\", \"#A1C9F4\"]\n",
    ")\n",
    "\n",
    "plt.show()"
   ]
  }
 ],
 "metadata": {
  "kernelspec": {
   "display_name": "Python [default]",
   "language": "python",
   "name": "python3"
  },
  "language_info": {
   "codemirror_mode": {
    "name": "ipython",
    "version": 3
   },
   "file_extension": ".py",
   "mimetype": "text/x-python",
   "name": "python",
   "nbconvert_exporter": "python",
   "pygments_lexer": "ipython3",
   "version": "3.5.2"
  }
 },
 "nbformat": 4,
 "nbformat_minor": 2
}
